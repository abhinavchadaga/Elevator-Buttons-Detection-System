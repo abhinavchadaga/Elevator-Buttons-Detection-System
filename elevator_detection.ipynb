{
 "cells": [
  {
   "cell_type": "code",
   "execution_count": 2,
   "metadata": {},
   "outputs": [
    {
     "name": "stderr",
     "output_type": "stream",
     "text": [
      "/home/abhinavchadaga/miniforge3/envs/fri/lib/python3.8/site-packages/tqdm/auto.py:22: TqdmWarning: IProgress not found. Please update jupyter and ipywidgets. See https://ipywidgets.readthedocs.io/en/stable/user_install.html\n",
      "  from .autonotebook import tqdm as notebook_tqdm\n"
     ]
    }
   ],
   "source": [
    "from detectron2 import model_zoo\n",
    "from detectron2.checkpoint import DetectionCheckpointer\n",
    "from detectron2.modeling import build_model"
   ]
  },
  {
   "cell_type": "code",
   "execution_count": 9,
   "metadata": {},
   "outputs": [],
   "source": [
    "cfg = {\n",
    "    \"ins\": {\n",
    "        \"base\": \"Misc/cascade_mask_rcnn_R_50_FPN_3x.yaml\",\n",
    "        \"weights\": \"models/cascade_mask_rcnn_mixed_only/model_best.pth\",\n",
    "        \"prediction_score_thresh\": 0.8\n",
    "    },\n",
    "    \"md\": {\n",
    "        \"base\": \"Misc/cascade_mask_rcnn_R_50_FPN_3x.yaml\",\n",
    "        \"weights\": \"models/cascade_mask_rcnn_md_mixed/model_best.pth\",\n",
    "        \"prediction_score_thresh\": 0.9\n",
    "    }\n",
    "}"
   ]
  },
  {
   "cell_type": "code",
   "execution_count": 12,
   "metadata": {},
   "outputs": [],
   "source": [
    "class ElevatorDetector():\n",
    "    def __init__(self, cfg) -> None:\n",
    "        ins_model_cfg = model_zoo.get_config(cfg[\"ins\"][\"base\"])\n",
    "        ins_model_cfg.MODEL.ROI_HEADS.NUM_CLASSES = 2\n",
    "        ins_model_cfg.MODEL.ROI_HEADS.NUM_CLASSES = 2\n",
    "        ins_model = build_model(ins_model_cfg)\n",
    "        DetectionCheckpointer(ins_model).load(path=cfg[\"ins\"][\"weights\"])\n",
    "\n",
    "        md_model_cfg = model_zoo.get_config(cfg[\"md\"][\"base\"])\n",
    "        md_model_cfg.MODEL.ROI_HEADS.NUM_CLASSES = 2\n",
    "        md_model = build_model(md_model_cfg)\n",
    "        DetectionCheckpointer(md_model).load(path=cfg[\"md\"][\"weights\"])\n",
    "\n",
    "        self.ins_model = ins_model\n",
    "        self.md_model = md_model\n",
    "\n"
   ]
  },
  {
   "cell_type": "code",
   "execution_count": 13,
   "metadata": {},
   "outputs": [
    {
     "ename": "AttributeError",
     "evalue": "ROI_HEADS",
     "output_type": "error",
     "traceback": [
      "\u001b[0;31m---------------------------------------------------------------------------\u001b[0m",
      "\u001b[0;31mAttributeError\u001b[0m                            Traceback (most recent call last)",
      "Cell \u001b[0;32mIn[13], line 1\u001b[0m\n\u001b[0;32m----> 1\u001b[0m detector \u001b[39m=\u001b[39m ElevatorDetector(cfg)\n",
      "Cell \u001b[0;32mIn[12], line 4\u001b[0m, in \u001b[0;36mElevatorDetector.__init__\u001b[0;34m(self, cfg)\u001b[0m\n\u001b[1;32m      2\u001b[0m \u001b[39mdef\u001b[39;00m \u001b[39m__init__\u001b[39m(\u001b[39mself\u001b[39m, cfg) \u001b[39m-\u001b[39m\u001b[39m>\u001b[39m \u001b[39mNone\u001b[39;00m:\n\u001b[1;32m      3\u001b[0m     ins_model_cfg \u001b[39m=\u001b[39m model_zoo\u001b[39m.\u001b[39mget_config(cfg[\u001b[39m\"\u001b[39m\u001b[39mins\u001b[39m\u001b[39m\"\u001b[39m][\u001b[39m\"\u001b[39m\u001b[39mbase\u001b[39m\u001b[39m\"\u001b[39m])\n\u001b[0;32m----> 4\u001b[0m     ins_model_cfg\u001b[39m.\u001b[39;49mROI_HEADS\u001b[39m.\u001b[39mNUM_CLASSES \u001b[39m=\u001b[39m \u001b[39m2\u001b[39m\n\u001b[1;32m      5\u001b[0m     ins_model \u001b[39m=\u001b[39m build_model(ins_model_cfg)\n\u001b[1;32m      6\u001b[0m     DetectionCheckpointer(ins_model)\u001b[39m.\u001b[39mload(path\u001b[39m=\u001b[39mcfg[\u001b[39m\"\u001b[39m\u001b[39mins\u001b[39m\u001b[39m\"\u001b[39m][\u001b[39m\"\u001b[39m\u001b[39mweights\u001b[39m\u001b[39m\"\u001b[39m])\n",
      "File \u001b[0;32m~/miniforge3/envs/fri/lib/python3.8/site-packages/yacs/config.py:141\u001b[0m, in \u001b[0;36mCfgNode.__getattr__\u001b[0;34m(self, name)\u001b[0m\n\u001b[1;32m    139\u001b[0m     \u001b[39mreturn\u001b[39;00m \u001b[39mself\u001b[39m[name]\n\u001b[1;32m    140\u001b[0m \u001b[39melse\u001b[39;00m:\n\u001b[0;32m--> 141\u001b[0m     \u001b[39mraise\u001b[39;00m \u001b[39mAttributeError\u001b[39;00m(name)\n",
      "\u001b[0;31mAttributeError\u001b[0m: ROI_HEADS"
     ]
    }
   ],
   "source": [
    "detector = ElevatorDetector(cfg)"
   ]
  },
  {
   "cell_type": "code",
   "execution_count": null,
   "metadata": {},
   "outputs": [],
   "source": []
  }
 ],
 "metadata": {
  "kernelspec": {
   "display_name": "fri",
   "language": "python",
   "name": "python3"
  },
  "language_info": {
   "codemirror_mode": {
    "name": "ipython",
    "version": 3
   },
   "file_extension": ".py",
   "mimetype": "text/x-python",
   "name": "python",
   "nbconvert_exporter": "python",
   "pygments_lexer": "ipython3",
   "version": "3.8.16"
  },
  "orig_nbformat": 4,
  "vscode": {
   "interpreter": {
    "hash": "075913cc2fcc7a93835dc4a1d79478002f468edbfadc09a654e302b0c8292c52"
   }
  }
 },
 "nbformat": 4,
 "nbformat_minor": 2
}
