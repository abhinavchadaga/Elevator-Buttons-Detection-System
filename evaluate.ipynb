{
 "cells": [
  {
   "cell_type": "code",
   "execution_count": 12,
   "metadata": {},
   "outputs": [],
   "source": [
    "import random\n",
    "\n",
    "import cv2\n",
    "import matplotlib.pyplot as plt\n",
    "%matplotlib inline\n",
    "\n",
    "from detectron2 import model_zoo\n",
    "from detectron2.config import get_cfg\n",
    "from detectron2.evaluation import COCOEvaluator, inference_on_dataset\n",
    "from detectron2.data import (\n",
    "    DatasetCatalog,\n",
    "    MetadataCatalog,\n",
    "    get_detection_dataset_dicts,\n",
    "    build_detection_test_loader,\n",
    ")\n",
    "from detectron2.engine import DefaultPredictor\n",
    "from detectron2.utils.visualizer import Visualizer, ColorMode\n",
    "\n",
    "\n",
    "from data_utils import read_split_file, register_dataset\n"
   ]
  },
  {
   "cell_type": "code",
   "execution_count": 13,
   "metadata": {},
   "outputs": [],
   "source": [
    "im_paths = \"data/panels/mixed/split.txt\"\n",
    "datasets = read_split_file(im_paths)\n",
    "test_im_paths = datasets[-1]"
   ]
  },
  {
   "cell_type": "code",
   "execution_count": 14,
   "metadata": {},
   "outputs": [
    {
     "ename": "AssertionError",
     "evalue": "Dataset 'mixed_test' is already registered!",
     "output_type": "error",
     "traceback": [
      "\u001b[0;31m---------------------------------------------------------------------------\u001b[0m",
      "\u001b[0;31mAssertionError\u001b[0m                            Traceback (most recent call last)",
      "Cell \u001b[0;32mIn[14], line 1\u001b[0m\n\u001b[0;32m----> 1\u001b[0m DatasetCatalog\u001b[39m.\u001b[39;49mregister(\u001b[39m\"\u001b[39;49m\u001b[39mmixed_test\u001b[39;49m\u001b[39m\"\u001b[39;49m, \u001b[39mlambda\u001b[39;49;00m im_paths\u001b[39m=\u001b[39;49mtest_im_paths: register_dataset(im_paths\u001b[39m=\u001b[39;49mim_paths))\n\u001b[1;32m      2\u001b[0m MetadataCatalog\u001b[39m.\u001b[39mget(\u001b[39m\"\u001b[39m\u001b[39mmixed_test\u001b[39m\u001b[39m\"\u001b[39m)\u001b[39m.\u001b[39mthing_classes \u001b[39m=\u001b[39m [\u001b[39m\"\u001b[39m\u001b[39mlabel\u001b[39m\u001b[39m\"\u001b[39m, \u001b[39m\"\u001b[39m\u001b[39mbutton\u001b[39m\u001b[39m\"\u001b[39m]\n\u001b[1;32m      3\u001b[0m testset \u001b[39m=\u001b[39m get_detection_dataset_dicts(\u001b[39m\"\u001b[39m\u001b[39mmixed_test\u001b[39m\u001b[39m\"\u001b[39m, filter_empty\u001b[39m=\u001b[39m\u001b[39mFalse\u001b[39;00m)\n",
      "File \u001b[0;32m~/miniforge3/envs/fri/lib/python3.8/site-packages/detectron2/data/catalog.py:37\u001b[0m, in \u001b[0;36m_DatasetCatalog.register\u001b[0;34m(self, name, func)\u001b[0m\n\u001b[1;32m     30\u001b[0m \u001b[39m\u001b[39m\u001b[39m\"\"\"\u001b[39;00m\n\u001b[1;32m     31\u001b[0m \u001b[39mArgs:\u001b[39;00m\n\u001b[1;32m     32\u001b[0m \u001b[39m    name (str): the name that identifies a dataset, e.g. \"coco_2014_train\".\u001b[39;00m\n\u001b[1;32m     33\u001b[0m \u001b[39m    func (callable): a callable which takes no arguments and returns a list of dicts.\u001b[39;00m\n\u001b[1;32m     34\u001b[0m \u001b[39m        It must return the same results if called multiple times.\u001b[39;00m\n\u001b[1;32m     35\u001b[0m \u001b[39m\"\"\"\u001b[39;00m\n\u001b[1;32m     36\u001b[0m \u001b[39massert\u001b[39;00m callable(func), \u001b[39m\"\u001b[39m\u001b[39mYou must register a function with `DatasetCatalog.register`!\u001b[39m\u001b[39m\"\u001b[39m\n\u001b[0;32m---> 37\u001b[0m \u001b[39massert\u001b[39;00m name \u001b[39mnot\u001b[39;00m \u001b[39min\u001b[39;00m \u001b[39mself\u001b[39m, \u001b[39m\"\u001b[39m\u001b[39mDataset \u001b[39m\u001b[39m'\u001b[39m\u001b[39m{}\u001b[39;00m\u001b[39m'\u001b[39m\u001b[39m is already registered!\u001b[39m\u001b[39m\"\u001b[39m\u001b[39m.\u001b[39mformat(name)\n\u001b[1;32m     38\u001b[0m \u001b[39mself\u001b[39m[name] \u001b[39m=\u001b[39m func\n",
      "\u001b[0;31mAssertionError\u001b[0m: Dataset 'mixed_test' is already registered!"
     ]
    }
   ],
   "source": [
    "DatasetCatalog.register(\"mixed_test\", lambda im_paths=test_im_paths: register_dataset(im_paths=im_paths))\n",
    "MetadataCatalog.get(\"mixed_test\").thing_classes = [\"label\", \"button\"]\n",
    "testset = get_detection_dataset_dicts(\"mixed_test\", filter_empty=False)\n",
    "len(testset)"
   ]
  },
  {
   "cell_type": "code",
   "execution_count": null,
   "metadata": {},
   "outputs": [],
   "source": [
    "cfg = get_cfg()\n",
    "cfg.merge_from_file(model_zoo.get_config_file(\"Misc/cascade_mask_rcnn_R_50_FPN_3x.yaml\"))\n",
    "cfg.MODEL.WEIGHTS = \"models/cascade_mask_rcnn_mixed/model_best.pth\"\n",
    "cfg.MODEL.ROI_HEADS.NUM_CLASSES = 2\n",
    "cfg.MODEL.ROI_HEADS.SCORE_THRESH_TEST = 0.7\n",
    "cfg.DATASETS.TEST = (\"mixed_test\",)\n",
    "\n",
    "predictor = DefaultPredictor(cfg)"
   ]
  },
  {
   "cell_type": "code",
   "execution_count": 17,
   "metadata": {},
   "outputs": [],
   "source": [
    "import os\n",
    "\n",
    "output_dir = \"test_images\"\n",
    "os.makedirs(output_dir, exist_ok=True)\n",
    "for i, d in enumerate(testset):\n",
    "    im = cv2.imread(d[\"file_name\"])\n",
    "    outputs = predictor(im)\n",
    "    v = Visualizer(\n",
    "        im[:, :, ::-1],\n",
    "        metadata=MetadataCatalog.get(\"mixed_test\"),\n",
    "        scale=2.0,\n",
    "        instance_mode=ColorMode.SEGMENTATION,\n",
    "    )\n",
    "    out = v.draw_instance_predictions(outputs[\"instances\"].to(\"cpu\"))\n",
    "    save_path = os.path.join(output_dir, os.path.basename(d['file_name']))\n",
    "    cv2.imwrite(save_path, out.get_image()[:, :, ::-1])\n"
   ]
  },
  {
   "cell_type": "code",
   "execution_count": null,
   "metadata": {},
   "outputs": [
    {
     "name": "stdout",
     "output_type": "stream",
     "text": [
      "Loading and preparing results...\n",
      "DONE (t=0.00s)\n",
      "creating index...\n",
      "index created!\n",
      "Running per image evaluation...\n",
      "Evaluate annotation type *bbox*\n",
      "DONE (t=0.17s).\n",
      "Accumulating evaluation results...\n",
      "DONE (t=0.01s).\n",
      " Average Precision  (AP) @[ IoU=0.50:0.95 | area=   all | maxDets=100 ] = 0.768\n",
      " Average Precision  (AP) @[ IoU=0.50      | area=   all | maxDets=100 ] = 0.932\n",
      " Average Precision  (AP) @[ IoU=0.75      | area=   all | maxDets=100 ] = 0.893\n",
      " Average Precision  (AP) @[ IoU=0.50:0.95 | area= small | maxDets=100 ] = 0.817\n",
      " Average Precision  (AP) @[ IoU=0.50:0.95 | area=medium | maxDets=100 ] = 0.762\n",
      " Average Precision  (AP) @[ IoU=0.50:0.95 | area= large | maxDets=100 ] = 0.793\n",
      " Average Recall     (AR) @[ IoU=0.50:0.95 | area=   all | maxDets=  1 ] = 0.044\n",
      " Average Recall     (AR) @[ IoU=0.50:0.95 | area=   all | maxDets= 10 ] = 0.421\n",
      " Average Recall     (AR) @[ IoU=0.50:0.95 | area=   all | maxDets=100 ] = 0.822\n",
      " Average Recall     (AR) @[ IoU=0.50:0.95 | area= small | maxDets=100 ] = 0.851\n",
      " Average Recall     (AR) @[ IoU=0.50:0.95 | area=medium | maxDets=100 ] = 0.811\n",
      " Average Recall     (AR) @[ IoU=0.50:0.95 | area= large | maxDets=100 ] = 0.844\n",
      "Loading and preparing results...\n",
      "DONE (t=0.00s)\n",
      "creating index...\n",
      "index created!\n",
      "Running per image evaluation...\n",
      "Evaluate annotation type *segm*\n",
      "DONE (t=0.20s).\n",
      "Accumulating evaluation results...\n",
      "DONE (t=0.01s).\n",
      " Average Precision  (AP) @[ IoU=0.50:0.95 | area=   all | maxDets=100 ] = 0.754\n",
      " Average Precision  (AP) @[ IoU=0.50      | area=   all | maxDets=100 ] = 0.927\n",
      " Average Precision  (AP) @[ IoU=0.75      | area=   all | maxDets=100 ] = 0.888\n",
      " Average Precision  (AP) @[ IoU=0.50:0.95 | area= small | maxDets=100 ] = 0.699\n",
      " Average Precision  (AP) @[ IoU=0.50:0.95 | area=medium | maxDets=100 ] = 0.751\n",
      " Average Precision  (AP) @[ IoU=0.50:0.95 | area= large | maxDets=100 ] = 0.793\n",
      " Average Recall     (AR) @[ IoU=0.50:0.95 | area=   all | maxDets=  1 ] = 0.044\n",
      " Average Recall     (AR) @[ IoU=0.50:0.95 | area=   all | maxDets= 10 ] = 0.413\n",
      " Average Recall     (AR) @[ IoU=0.50:0.95 | area=   all | maxDets=100 ] = 0.807\n",
      " Average Recall     (AR) @[ IoU=0.50:0.95 | area= small | maxDets=100 ] = 0.766\n",
      " Average Recall     (AR) @[ IoU=0.50:0.95 | area=medium | maxDets=100 ] = 0.797\n",
      " Average Recall     (AR) @[ IoU=0.50:0.95 | area= large | maxDets=100 ] = 0.838\n"
     ]
    },
    {
     "data": {
      "text/plain": [
       "OrderedDict([('bbox',\n",
       "              {'AP': 76.7863140439112,\n",
       "               'AP50': 93.19664972289353,\n",
       "               'AP75': 89.26964309641605,\n",
       "               'APs': 81.68507903421921,\n",
       "               'APm': 76.15440323791265,\n",
       "               'APl': 79.3459565837831,\n",
       "               'AP-label': 76.22575962791744,\n",
       "               'AP-button': 77.34686845990497}),\n",
       "             ('segm',\n",
       "              {'AP': 75.35067456444217,\n",
       "               'AP50': 92.68910992817271,\n",
       "               'AP75': 88.82610166028346,\n",
       "               'APs': 69.89910157152211,\n",
       "               'APm': 75.10010835955589,\n",
       "               'APl': 79.3022187603067,\n",
       "               'AP-label': 75.28326865103378,\n",
       "               'AP-button': 75.41808047785055})])"
      ]
     },
     "execution_count": 6,
     "metadata": {},
     "output_type": "execute_result"
    }
   ],
   "source": [
    "evaluator = COCOEvaluator(\n",
    "    \"mixed_test\",\n",
    "    output_dir=\"./output\",\n",
    "    use_fast_impl=False,\n",
    "    allow_cached_coco=False,\n",
    ")\n",
    "testloader = build_detection_test_loader(cfg, \"mixed_test\")\n",
    "inference_on_dataset(predictor.model, testloader, evaluator)\n"
   ]
  }
 ],
 "metadata": {
  "kernelspec": {
   "display_name": "fri",
   "language": "python",
   "name": "python3"
  },
  "language_info": {
   "codemirror_mode": {
    "name": "ipython",
    "version": 3
   },
   "file_extension": ".py",
   "mimetype": "text/x-python",
   "name": "python",
   "nbconvert_exporter": "python",
   "pygments_lexer": "ipython3",
   "version": "3.8.16"
  },
  "orig_nbformat": 4,
  "vscode": {
   "interpreter": {
    "hash": "075913cc2fcc7a93835dc4a1d79478002f468edbfadc09a654e302b0c8292c52"
   }
  }
 },
 "nbformat": 4,
 "nbformat_minor": 2
}
