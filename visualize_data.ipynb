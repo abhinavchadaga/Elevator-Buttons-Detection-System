{
 "cells": [
  {
   "cell_type": "code",
   "execution_count": 1,
   "metadata": {},
   "outputs": [],
   "source": [
    "import random\n",
    "import matplotlib.pyplot as plt\n",
    "import cv2\n",
    "\n",
    "from detectron2.data import DatasetCatalog, MetadataCatalog, get_detection_dataset_dicts, print_instances_class_histogram\n",
    "from detectron2.utils.visualizer import Visualizer, ColorMode\n",
    "from detectron2.utils.logger import setup_logger\n",
    "\n",
    "from data_utils import read_split_file, register_dataset\n",
    "\n",
    "setup_logger()\n",
    "%matplotlib inline"
   ]
  },
  {
   "attachments": {},
   "cell_type": "markdown",
   "metadata": {},
   "source": [
    "### Check Mixed"
   ]
  },
  {
   "cell_type": "code",
   "execution_count": 2,
   "metadata": {},
   "outputs": [],
   "source": [
    "mixed_sets = read_split_file(\"data/panels/mixed/split.txt\")\n",
    "\n",
    "# Register mixed datasets\n",
    "for spl, im_paths in zip([\"train\", \"val\", \"test\"], mixed_sets):\n",
    "    DatasetCatalog.register(\n",
    "        f\"mixed_{spl}\", lambda im_paths=im_paths: register_dataset(im_paths)\n",
    "    )\n",
    "    MetadataCatalog.get(f\"mixed_{spl}\").set(\n",
    "        thing_classes=[\"label\", \"button\"],\n",
    "        thing_colors=[(0, 255, 0), (0, 0, 255)],\n",
    "    )"
   ]
  },
  {
   "cell_type": "code",
   "execution_count": 3,
   "metadata": {},
   "outputs": [
    {
     "name": "stderr",
     "output_type": "stream",
     "text": [
      "registering mixed dataset: 100%|██████████| 76/76 [00:03<00:00, 21.53it/s]"
     ]
    },
    {
     "name": "stdout",
     "output_type": "stream",
     "text": [
      "\u001b[32m[02/28 23:25:38 d2.data.build]: \u001b[0mDistribution of instances among all 2 categories:\n",
      "\u001b[36m|  category  | #instances   |  category  | #instances   |\n",
      "|:----------:|:-------------|:----------:|:-------------|\n",
      "|   label    | 948          |   button   | 948          |\n",
      "|            |              |            |              |\n",
      "|   total    | 1896         |            |              |\u001b[0m\n"
     ]
    },
    {
     "name": "stderr",
     "output_type": "stream",
     "text": [
      "\n",
      "registering mixed dataset: 100%|██████████| 10/10 [00:00<00:00, 18.70it/s]"
     ]
    },
    {
     "name": "stdout",
     "output_type": "stream",
     "text": [
      "\u001b[32m[02/28 23:25:38 d2.data.build]: \u001b[0mDistribution of instances among all 2 categories:\n",
      "\u001b[36m|  category  | #instances   |  category  | #instances   |\n",
      "|:----------:|:-------------|:----------:|:-------------|\n",
      "|   label    | 169          |   button   | 169          |\n",
      "|            |              |            |              |\n",
      "|   total    | 338          |            |              |\u001b[0m\n"
     ]
    },
    {
     "name": "stderr",
     "output_type": "stream",
     "text": [
      "\n",
      "registering mixed dataset: 100%|██████████| 22/22 [00:00<00:00, 26.68it/s]"
     ]
    },
    {
     "name": "stdout",
     "output_type": "stream",
     "text": [
      "\u001b[32m[02/28 23:25:39 d2.data.build]: \u001b[0mDistribution of instances among all 2 categories:\n",
      "\u001b[36m|  category  | #instances   |  category  | #instances   |\n",
      "|:----------:|:-------------|:----------:|:-------------|\n",
      "|   label    | 423          |   button   | 423          |\n",
      "|            |              |            |              |\n",
      "|   total    | 846          |            |              |\u001b[0m\n",
      "108\n"
     ]
    },
    {
     "name": "stderr",
     "output_type": "stream",
     "text": [
      "\n"
     ]
    }
   ],
   "source": [
    "trainset = get_detection_dataset_dicts(\"mixed_train\", filter_empty=False)\n",
    "valset = get_detection_dataset_dicts(\"mixed_val\", filter_empty=False)\n",
    "testset = get_detection_dataset_dicts(\"mixed_test\", filter_empty=False)\n",
    "dataset = trainset + valset + testset\n",
    "print(len(dataset))"
   ]
  },
  {
   "attachments": {},
   "cell_type": "markdown",
   "metadata": {},
   "source": [
    "### Check the UT-West-Campus Dataset"
   ]
  },
  {
   "cell_type": "code",
   "execution_count": 4,
   "metadata": {},
   "outputs": [],
   "source": [
    "ut_west_campus_sets = read_split_file(\"data/panels/ut_west_campus/split.txt\")\n",
    "\n",
    "# Register ut_west_campus datasets\n",
    "for spl, im_paths in zip([\"train\", \"val\", \"test\"], ut_west_campus_sets):\n",
    "    DatasetCatalog.register(\n",
    "        f\"ut_west_campus_{spl}\", lambda im_paths=im_paths: register_dataset(im_paths)\n",
    "    )\n",
    "    MetadataCatalog.get(f\"ut_west_campus_{spl}\").set(\n",
    "        thing_classes=[\"label\", \"button\"],\n",
    "        thing_colors=[(0, 255, 0), (0, 0, 255)],\n",
    "    )"
   ]
  },
  {
   "cell_type": "code",
   "execution_count": 5,
   "metadata": {},
   "outputs": [
    {
     "name": "stderr",
     "output_type": "stream",
     "text": [
      "registering ut_west_campus dataset: 100%|██████████| 192/192 [00:41<00:00,  4.64it/s]"
     ]
    },
    {
     "name": "stdout",
     "output_type": "stream",
     "text": [
      "\u001b[32m[02/28 23:26:36 d2.data.build]: \u001b[0mDistribution of instances among all 2 categories:\n",
      "\u001b[36m|  category  | #instances   |  category  | #instances   |\n",
      "|:----------:|:-------------|:----------:|:-------------|\n",
      "|   label    | 2310         |   button   | 2310         |\n",
      "|            |              |            |              |\n",
      "|   total    | 4620         |            |              |\u001b[0m\n"
     ]
    },
    {
     "name": "stderr",
     "output_type": "stream",
     "text": [
      "\n",
      "registering ut_west_campus dataset: 100%|██████████| 12/12 [00:03<00:00,  3.86it/s]"
     ]
    },
    {
     "name": "stdout",
     "output_type": "stream",
     "text": [
      "\u001b[32m[02/28 23:26:40 d2.data.build]: \u001b[0mDistribution of instances among all 2 categories:\n",
      "\u001b[36m|  category  | #instances   |  category  | #instances   |\n",
      "|:----------:|:-------------|:----------:|:-------------|\n",
      "|   label    | 174          |   button   | 174          |\n",
      "|            |              |            |              |\n",
      "|   total    | 348          |            |              |\u001b[0m\n"
     ]
    },
    {
     "name": "stderr",
     "output_type": "stream",
     "text": [
      "\n",
      "registering ut_west_campus dataset: 100%|██████████| 88/88 [00:18<00:00,  4.72it/s]"
     ]
    },
    {
     "name": "stdout",
     "output_type": "stream",
     "text": [
      "\u001b[32m[02/28 23:26:58 d2.data.build]: \u001b[0mDistribution of instances among all 2 categories:\n",
      "\u001b[36m|  category  | #instances   |  category  | #instances   |\n",
      "|:----------:|:-------------|:----------:|:-------------|\n",
      "|   label    | 982          |   button   | 982          |\n",
      "|            |              |            |              |\n",
      "|   total    | 1964         |            |              |\u001b[0m\n",
      "292\n"
     ]
    },
    {
     "name": "stderr",
     "output_type": "stream",
     "text": [
      "\n"
     ]
    }
   ],
   "source": [
    "trainset = get_detection_dataset_dicts(\"ut_west_campus_train\", filter_empty=False)\n",
    "valset = get_detection_dataset_dicts(\"ut_west_campus_val\", filter_empty=False)\n",
    "testset = get_detection_dataset_dicts(\"ut_west_campus_test\", filter_empty=False)\n",
    "dataset = trainset + valset + testset\n",
    "print(len(dataset))"
   ]
  },
  {
   "attachments": {},
   "cell_type": "markdown",
   "metadata": {},
   "source": [
    "Use the function below to generate the tables if its not popping up for you"
   ]
  },
  {
   "cell_type": "code",
   "execution_count": null,
   "metadata": {},
   "outputs": [],
   "source": [
    "print_instances_class_histogram(dataset, [\"label\", \"button\"])"
   ]
  },
  {
   "cell_type": "code",
   "execution_count": null,
   "metadata": {},
   "outputs": [],
   "source": [
    "print_instances_class_histogram(testset, [\"label\", \"button\"])"
   ]
  },
  {
   "cell_type": "code",
   "execution_count": null,
   "metadata": {},
   "outputs": [],
   "source": [
    "sampled_dicts = random.sample(trainset, 20)\n",
    "\n",
    "d = sampled_dicts[0]\n",
    "og_img = cv2.imread(d[\"file_name\"])\n",
    "plt.imshow(og_img[:, :, ::-1])"
   ]
  },
  {
   "cell_type": "code",
   "execution_count": null,
   "metadata": {},
   "outputs": [],
   "source": [
    "def get_optimal_font_scale(text, width):\n",
    "\n",
    "    for scale in reversed(range(0, 60, 1)):\n",
    "        textSize = cv2.getTextSize(text, fontFace=cv2.FONT_HERSHEY_DUPLEX, fontScale=scale/10, thickness=1)\n",
    "        new_width = textSize[0][0]\n",
    "        if (new_width <= width):\n",
    "            return scale/10\n",
    "    return 1"
   ]
  },
  {
   "cell_type": "code",
   "execution_count": null,
   "metadata": {},
   "outputs": [],
   "source": [
    "import json\n",
    "import os\n",
    "\n",
    "from data_utils import generate_bbox, generate_gt_mask_coords\n",
    "\n",
    "symbol_map = {\"<|>\": \"open\", \">|<\": \"close\", \"^\": \"alarm\", \"&\": \"call\", \"#\": \"stop\"}\n",
    "\n",
    "annos = json.load(open(\"data/panels/mixed/annotations.json\"))\n",
    "for d in sampled_dicts:\n",
    "    print(d[\"file_name\"])\n",
    "    img = cv2.imread(d[\"file_name\"])\n",
    "    height, width = img.shape[:2]\n",
    "    visualizer = Visualizer(\n",
    "        img[:, :, ::-1],\n",
    "        metadata=MetadataCatalog.get(\"mixed_train\"),\n",
    "        scale=1,\n",
    "        instance_mode=ColorMode.SEGMENTATION,\n",
    "    )\n",
    "    out = visualizer.draw_dataset_dict(d)\n",
    "    out = out.get_image()\n",
    "    img_dict = annos[os.path.basename(d[\"file_name\"])]\n",
    "    for r in img_dict[\"regions\"]:\n",
    "        pair = r[\"region_attributes\"].get(\"pair\")\n",
    "        if pair is None or pair == \"\":\n",
    "            continue\n",
    "        \n",
    "        pair = pair.rstrip().lower()\n",
    "        if r[\"region_attributes\"][\"category_id\"] == \"button\" and (r[\"region_attributes\"][\"pair\"] is not None or r[\"region_attributes\"][\"pair\"] != \"\"):\n",
    "            bbox = generate_bbox(*generate_gt_mask_coords(r, height, width), height, width)\n",
    "            cv2.putText(\n",
    "                out,\n",
    "                text=pair if pair not in symbol_map else symbol_map[pair],\n",
    "                org=(int(bbox[0]) + 5, int((bbox[1] + bbox[3]) / 2)),\n",
    "                fontFace=cv2.FONT_HERSHEY_SIMPLEX,\n",
    "                fontScale=1,\n",
    "                color=(255, 0, 0),\n",
    "                thickness=2,\n",
    "            )\n",
    "\n",
    "    cv2.imwrite(f\"big_graphic/{os.path.basename(d['file_name'])}\", out[:, :, ::-1])\n",
    "    # plt.imshow(out.get_image())\n",
    "    # plt.axis(\"off\")\n",
    "    # plt.show()"
   ]
  },
  {
   "cell_type": "code",
   "execution_count": null,
   "metadata": {},
   "outputs": [],
   "source": []
  }
 ],
 "metadata": {
  "kernelspec": {
   "display_name": "d2",
   "language": "python",
   "name": "python3"
  },
  "language_info": {
   "codemirror_mode": {
    "name": "ipython",
    "version": 3
   },
   "file_extension": ".py",
   "mimetype": "text/x-python",
   "name": "python",
   "nbconvert_exporter": "python",
   "pygments_lexer": "ipython3",
   "version": "3.8.16"
  },
  "orig_nbformat": 4,
  "vscode": {
   "interpreter": {
    "hash": "a0e0cf62b4e9c5378dc3d346036feb01734d2648ed8f1c021a57dbf03944910a"
   }
  }
 },
 "nbformat": 4,
 "nbformat_minor": 2
}
